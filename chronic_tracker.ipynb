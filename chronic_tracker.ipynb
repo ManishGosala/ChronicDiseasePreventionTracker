{
 "cells": [
  {
   "cell_type": "code",
   "execution_count": 1,
   "id": "f68ea7a8",
   "metadata": {},
   "outputs": [],
   "source": [
    "import pandas as pd\n",
    "import numpy as np\n",
    "import joblib\n",
    "from datetime import datetime\n",
    "import os\n",
    "import matplotlib.pyplot as plt\n",
    "import ipywidgets as widgets\n",
    "from IPython.display import display, clear_output\n",
    "\n",
    "# Load the trained model\n",
    "model = joblib.load(\"chronic_model.pkl\")\n"
   ]
  },
  {
   "cell_type": "code",
   "execution_count": 2,
   "id": "e72da785",
   "metadata": {},
   "outputs": [],
   "source": [
    "# Inputs for the model\n",
    "highbp = widgets.Dropdown(options=[0, 1], description='HighBP:')\n",
    "highchol = widgets.Dropdown(options=[0, 1], description='HighChol:')\n",
    "bmi = widgets.FloatText(value=25.0, description='BMI:')\n",
    "smoker = widgets.Dropdown(options=[0, 1], description='Smoker:')\n",
    "phys_activity = widgets.Dropdown(options=[0, 1], description='PhysActivity:')\n",
    "fruits = widgets.Dropdown(options=[0, 1], description='Fruits:')\n",
    "veggies = widgets.Dropdown(options=[0, 1], description='Veggies:')\n",
    "age = widgets.IntSlider(value=40, min=0, max=100, step=1, description='Age:')\n",
    "\n"
   ]
  },
  {
   "cell_type": "code",
   "execution_count": 3,
   "id": "68b23b64",
   "metadata": {},
   "outputs": [],
   "source": [
    "def recommend_tips(bmi, smoker, fruits, phys_activity):\n",
    "    tips = []\n",
    "    if bmi > 30:\n",
    "        tips.append(\"Try reducing your BMI through diet and daily walks.\")\n",
    "    if smoker == 1:\n",
    "        tips.append(\"Consider quitting smoking to lower chronic disease risk.\")\n",
    "    if fruits == 0:\n",
    "        tips.append(\"Eat at least 1 fruit daily.\")\n",
    "    if phys_activity == 0:\n",
    "        tips.append(\"Start light physical activity for 20 minutes daily.\")\n",
    "    return \"💡 \" + \" \".join(tips) if tips else \"💡 You're doing great! Keep it up!\"\n"
   ]
  },
  {
   "cell_type": "code",
   "execution_count": 4,
   "id": "ec86e74d",
   "metadata": {},
   "outputs": [],
   "source": [
    "def show_bmi_chart(bmi_value):\n",
    "    fig, ax = plt.subplots()\n",
    "    ax.bar([\"Your BMI\"], [bmi_value], color='red' if bmi_value > 30 else 'green')\n",
    "    ax.axhline(25, linestyle='--', color='gray', label='Normal Threshold')\n",
    "    ax.set_title(\"BMI Level\")\n",
    "    ax.legend()\n",
    "    plt.show()\n"
   ]
  },
  {
   "cell_type": "code",
   "execution_count": 5,
   "id": "6acfcedd",
   "metadata": {},
   "outputs": [],
   "source": [
    "# Prediction button and output display\n",
    "predict_button = widgets.Button(description='Predict Risk')\n",
    "output = widgets.Output()\n",
    "\n",
    "def on_predict_click(b):\n",
    "    lifestyle_score = phys_activity.value + (1 - smoker.value)\n",
    "    diet_score = fruits.value + veggies.value\n",
    "\n",
    "    input_data = pd.DataFrame([[ \n",
    "        highbp.value, highchol.value, bmi.value, age.value,\n",
    "        lifestyle_score, diet_score\n",
    "    ]], columns=['HighBP', 'HighChol', 'BMI', 'Age', 'lifestyle_score', 'diet_score'])\n",
    "\n",
    "    prediction = model.predict(input_data)[0]\n",
    "\n",
    "    # Save to CSV log\n",
    "    input_data[\"Prediction\"] = prediction\n",
    "    input_data[\"Timestamp\"] = datetime.now().strftime(\"%Y-%m-%d %H:%M:%S\")\n",
    "    os.makedirs(\"logs\", exist_ok=True)\n",
    "    log_file = \"logs/prediction_log.csv\"\n",
    "    input_data.to_csv(log_file, mode=\"a\", header=not os.path.exists(log_file), index=False)\n",
    "\n",
    "    # Display prediction and tips\n",
    "    with output:\n",
    "        output.clear_output()\n",
    "        if prediction == 1:\n",
    "            print(\"⚠️ You are at risk for Diabetes. Consider lifestyle changes and consult a doctor.\")\n",
    "        else:\n",
    "            print(\"✅ You are not at high risk. Maintain your healthy lifestyle.\")\n",
    "        print(recommend_tips(bmi.value, smoker.value, fruits.value, phys_activity.value))\n",
    "        show_bmi_chart(bmi.value)\n",
    "\n",
    "predict_button.on_click(on_predict_click)\n"
   ]
  },
  {
   "cell_type": "code",
   "execution_count": 6,
   "id": "7bef84c6",
   "metadata": {},
   "outputs": [
    {
     "data": {
      "application/vnd.jupyter.widget-view+json": {
       "model_id": "3a6e605f28764389a2d639203e159ae9",
       "version_major": 2,
       "version_minor": 0
      },
      "text/plain": [
       "VBox(children=(VBox(children=(Dropdown(description='HighBP:', options=(0, 1), value=0), Dropdown(description='…"
      ]
     },
     "metadata": {},
     "output_type": "display_data"
    }
   ],
   "source": [
    "input_form = widgets.VBox([\n",
    "    highbp, highchol, bmi, smoker,\n",
    "    phys_activity, fruits, veggies, age,\n",
    "    predict_button\n",
    "])\n",
    "\n",
    "display(widgets.VBox([input_form, output]))\n"
   ]
  },
  {
   "cell_type": "code",
   "execution_count": null,
   "id": "c7a778f7",
   "metadata": {},
   "outputs": [],
   "source": []
  },
  {
   "cell_type": "code",
   "execution_count": null,
   "id": "da0517e0",
   "metadata": {},
   "outputs": [],
   "source": []
  }
 ],
 "metadata": {
  "kernelspec": {
   "display_name": "base",
   "language": "python",
   "name": "python3"
  },
  "language_info": {
   "codemirror_mode": {
    "name": "ipython",
    "version": 3
   },
   "file_extension": ".py",
   "mimetype": "text/x-python",
   "name": "python",
   "nbconvert_exporter": "python",
   "pygments_lexer": "ipython3",
   "version": "3.11.7"
  }
 },
 "nbformat": 4,
 "nbformat_minor": 5
}
